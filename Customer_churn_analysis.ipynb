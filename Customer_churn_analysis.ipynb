{
 "cells": [
  {
   "cell_type": "markdown",
   "metadata": {},
   "source": [
    "# Customer Churn Analysis\n",
    "---"
   ]
  },
  {
   "cell_type": "markdown",
   "metadata": {},
   "source": [
    "## Step 1: Business Understanding\n",
    "#### Problem Statement:\n",
    "Namibia ventures is trying to increase its profit or revenue margin and customers retention is one key area it is focusing it's resources. As a data analysts of the company we are tasked to build a machine model to predict customer churn.\n",
    "\n",
    "In this project we are investigating the factors that influence customers to churn and build classification models to perform churn analysis on the  customers. The aim is to understand the custormer churnning trends and patterns and identify which class/category the customers will fall into.\n",
    "\n",
    "#### Objective\n",
    "In this analysis we will: \n",
    "- Identifying trends and patterns in custormer churns.\n",
    "- Determining which factor influences customers to churn.\n",
    "- Build a Machine learning model to classify customers into categories/classes.\n",
    "- Use the model to predict customer churn.\n",
    "\n",
    "#### Analytical Questions\n",
    "1. "
   ]
  },
  {
   "cell_type": "markdown",
   "metadata": {},
   "source": [
    "## Step 2: Data Understanding\n",
    "The data for this projects has been divided into 3. The first 2 data sets are for training and evaluation the machine learning model  while the last data set is for testing the model."
   ]
  }
 ],
 "metadata": {
  "language_info": {
   "name": "python"
  }
 },
 "nbformat": 4,
 "nbformat_minor": 2
}
